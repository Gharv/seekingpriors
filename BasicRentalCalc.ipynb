{
 "cells": [
  {
   "cell_type": "code",
   "execution_count": 1,
   "metadata": {},
   "outputs": [],
   "source": [
    "import numpy as np"
   ]
  },
  {
   "cell_type": "code",
   "execution_count": 2,
   "metadata": {},
   "outputs": [],
   "source": [
    "# scalers\n",
    "inital_value = 186500\n",
    "down_payment = 7000      # closing costs, VA funding fee, etc.\n",
    "refinance_payment = 7000 # refianance to get off of VA home loan (can only have 2 VA Home Loans)\n",
    "movement_cost = 1000\n",
    "final_value = inital_value * (1 + .01/1) ** (1*30)\n",
    "# final_value = 50000\n",
    "years = 28\n",
    "\n",
    "# vectors\n",
    "mortage_payment = 1100 * 12 * np.full(years,1.01).cumprod()\n",
    "maintenance = 100 * 12 * np.full(years,1.02).cumprod()\n",
    "rent_rate = 1350 * 12 * np.full(years,1.02).cumprod() * .95\n"
   ]
  },
  {
   "cell_type": "code",
   "execution_count": 3,
   "metadata": {},
   "outputs": [
    {
     "data": {
      "text/plain": [
       "251373.822709587"
      ]
     },
     "execution_count": 3,
     "metadata": {},
     "output_type": "execute_result"
    }
   ],
   "source": [
    "final_value"
   ]
  },
  {
   "cell_type": "markdown",
   "metadata": {},
   "source": [
    "$$\n",
    "Average Annual Rate Of Return = \\frac{\\frac{Net Return}{Cost Of Investment}}{Years}\n",
    "$$"
   ]
  },
  {
   "cell_type": "code",
   "execution_count": 4,
   "metadata": {},
   "outputs": [
    {
     "data": {
      "text/plain": [
       "0.8197631271591629"
      ]
     },
     "execution_count": 4,
     "metadata": {},
     "output_type": "execute_result"
    }
   ],
   "source": [
    "net_return  = final_value + (rent_rate - maintenance - mortage_payment).sum() - down_payment - refinance_payment - movement_cost\n",
    "cost_of_inv = down_payment + refinance_payment + movement_cost\n",
    "\n",
    "net_return / cost_of_inv / years"
   ]
  },
  {
   "cell_type": "code",
   "execution_count": 5,
   "metadata": {},
   "outputs": [
    {
     "data": {
      "text/plain": [
       "array([ 95.15      , 108.163     , 121.54736   , 135.3116182 ,\n",
       "       149.46449467, 164.01489512, 178.97191468, 194.34484184,\n",
       "       210.14316244, 226.37656369, 243.05493834, 260.18838893,\n",
       "       277.78723203, 295.86200276, 314.42345916, 333.48258685,\n",
       "       353.05060368, 373.1389645 , 393.75936603, 414.9237518 ,\n",
       "       436.64431728, 458.93351497, 481.80405972, 505.26893412,\n",
       "       529.34139394, 554.03497376, 579.3634927 , 605.34106021])"
      ]
     },
     "execution_count": 5,
     "metadata": {},
     "output_type": "execute_result"
    }
   ],
   "source": [
    "(rent_rate - maintenance - mortage_payment) / 12"
   ]
  },
  {
   "cell_type": "code",
   "execution_count": 6,
   "metadata": {},
   "outputs": [
    {
     "data": {
      "text/plain": [
       "array([1111.        , 1122.11      , 1133.3311    , 1144.664411  ,\n",
       "       1156.11105511, 1167.67216566, 1179.34888732, 1191.14237619,\n",
       "       1203.05379995, 1215.08433795, 1227.23518133, 1239.50753315,\n",
       "       1251.90260848, 1264.42163456, 1277.06585091, 1289.83650942,\n",
       "       1302.73487451, 1315.76222326, 1328.91984549, 1342.20904394,\n",
       "       1355.63113438, 1369.18744573, 1382.87932018, 1396.70811339,\n",
       "       1410.67519452, 1424.78194646, 1439.02976593, 1453.42006359])"
      ]
     },
     "execution_count": 6,
     "metadata": {},
     "output_type": "execute_result"
    }
   ],
   "source": [
    "mortage_payment / 12"
   ]
  },
  {
   "cell_type": "code",
   "execution_count": 7,
   "metadata": {},
   "outputs": [
    {
     "data": {
      "text/plain": [
       "array([102.        , 104.04      , 106.1208    , 108.243216  ,\n",
       "       110.40808032, 112.61624193, 114.86856676, 117.1659381 ,\n",
       "       119.50925686, 121.899442  , 124.33743084, 126.82417946,\n",
       "       129.36066305, 131.94787631, 134.58683383, 137.27857051,\n",
       "       140.02414192, 142.82462476, 145.68111725, 148.5947396 ,\n",
       "       151.56663439, 154.59796708, 157.68992642, 160.84372495,\n",
       "       164.06059945, 167.34181144, 170.68864766, 174.10242062])"
      ]
     },
     "execution_count": 7,
     "metadata": {},
     "output_type": "execute_result"
    }
   ],
   "source": [
    "maintenance / 12"
   ]
  },
  {
   "cell_type": "code",
   "execution_count": 8,
   "metadata": {},
   "outputs": [
    {
     "data": {
      "text/plain": [
       "array([1308.15      , 1334.313     , 1360.99926   , 1388.2192452 ,\n",
       "       1415.9836301 , 1444.30330271, 1473.18936876, 1502.65315614,\n",
       "       1532.70621926, 1563.36034364, 1594.62755052, 1626.52010153,\n",
       "       1659.05050356, 1692.23151363, 1726.0761439 , 1760.59766678,\n",
       "       1795.80962011, 1831.72581252, 1868.36032877, 1905.72753534,\n",
       "       1943.84208605, 1982.71892777, 2022.37330633, 2062.82077245,\n",
       "       2104.0771879 , 2146.15873166, 2189.08190629, 2232.86354442])"
      ]
     },
     "execution_count": 8,
     "metadata": {},
     "output_type": "execute_result"
    }
   ],
   "source": [
    "rent_rate / 12"
   ]
  }
 ],
 "metadata": {
  "kernelspec": {
   "display_name": "Python 3",
   "language": "python",
   "name": "python3"
  },
  "language_info": {
   "codemirror_mode": {
    "name": "ipython",
    "version": 3
   },
   "file_extension": ".py",
   "mimetype": "text/x-python",
   "name": "python",
   "nbconvert_exporter": "python",
   "pygments_lexer": "ipython3",
   "version": "3.7.3"
  }
 },
 "nbformat": 4,
 "nbformat_minor": 4
}
